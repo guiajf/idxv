{
 "cells": [
  {
   "cell_type": "markdown",
   "id": "f842ba93-f137-4b90-a236-bc325122d610",
   "metadata": {},
   "source": [
    "# Índices de Vegetação"
   ]
  },
  {
   "cell_type": "markdown",
   "id": "0562570c-5e6f-4f77-95dc-33366972a7a1",
   "metadata": {},
   "source": [
    "### Monitoramento de uso do solo"
   ]
  },
  {
   "cell_type": "markdown",
   "id": "d7b3c18d-093a-4abf-9a6c-4a4428e565d6",
   "metadata": {},
   "source": [
    "Os índices de vegetação são utilizados para determinar as características espaciais e condições da vegetação, calculados por meio de modelos matemáticos desenvolvidos com base na reflectância das coberturas vegetais, baseados em sensoriamento remoto, via satélite, veículos aéreos ou terrestres."
   ]
  },
  {
   "cell_type": "markdown",
   "id": "a7f7bf45-0bbb-45bb-88b7-ce4bec5a4bc7",
   "metadata": {},
   "source": [
    "Em nosso exemplo, utilizamos imagens de satélite geradas pelo **Sentinel-2**, capturadas através do **Google Earth Engine**."
   ]
  },
  {
   "cell_type": "markdown",
   "id": "d6c889d0-b35e-4eac-915e-638b1e20c625",
   "metadata": {},
   "source": [
    "### Importamos as bibliotecas"
   ]
  },
  {
   "cell_type": "code",
   "execution_count": null,
   "id": "88137d5a-7f55-49d6-b61a-5c9dd6067db8",
   "metadata": {},
   "outputs": [],
   "source": [
    "import ee\n",
    "import geemap"
   ]
  },
  {
   "cell_type": "markdown",
   "id": "fce744bb-597e-4aa0-9258-58abab4f9d8f",
   "metadata": {},
   "source": [
    "### Inicializamos a API"
   ]
  },
  {
   "cell_type": "code",
   "execution_count": null,
   "id": "90303401-8359-4c8e-a566-769185415112",
   "metadata": {},
   "outputs": [],
   "source": [
    "# Processo de autenticação\n",
    "ee.Authenticate()\n",
    "\n",
    "# Inicializamos a biblioteca\n",
    "ee.Initialize()"
   ]
  },
  {
   "cell_type": "markdown",
   "id": "5f622556-d0d5-4777-8a32-d4afb3d03a0e",
   "metadata": {},
   "source": [
    "## Índices de vegetação"
   ]
  },
  {
   "cell_type": "markdown",
   "id": "f35f8851-af56-4f6f-a931-bb51e1b0f0f8",
   "metadata": {},
   "source": [
    "### NDVI (Normalized Difference Vegetation Index)\n",
    "Fórmula: \n",
    "        NDVI = (NIR – RED) / (NIR + RED)\n",
    "        \n",
    "- NIR = valor dos pixels da banda NIR (B8)\n",
    "- Red = valor dos pixels da banda RED (B4)"
   ]
  },
  {
   "cell_type": "code",
   "execution_count": null,
   "id": "267e8f75-c284-4c8e-b0ce-3df9be6017a2",
   "metadata": {},
   "outputs": [],
   "source": [
    "def obtemNDVI(image):\n",
    "    NDVI = image.expression ('((NIR - RED) / (NIR + RED))',{\n",
    "        'NIR': image.select ('B8'),\n",
    "        'RED': image.select ('B4')\n",
    "    }).rename(\"NDVI\")\n",
    "    \n",
    "    image = image.addBands(NDVI)\n",
    "\n",
    "    return(image)"
   ]
  },
  {
   "cell_type": "markdown",
   "id": "d4945eb0-8f8d-4a8c-a6ff-47080963c462",
   "metadata": {},
   "source": [
    "###  GNDVI (Green Normalized Difference Vegetation Index)\n",
    "Fórmula: \n",
    "        GNDVI = (NIR – GREEN) / (NIR + GREEN)\n",
    "        \n",
    "- NIR = valor dos pixels da banda NIR (B8)\n",
    "- Green = valor dos pixels da banda GREEN (B3)"
   ]
  },
  {
   "cell_type": "code",
   "execution_count": null,
   "id": "c33fa80a-2d47-40fc-8358-d897568c6d9a",
   "metadata": {},
   "outputs": [],
   "source": [
    "def obtemGNDVI(image):\n",
    "    GNDVI = image.expression ('((NIR - GREEN) / (NIR + GREEN))',{\n",
    "        'NIR': image.select ('B8'),\n",
    "        'GREEN': image.select ('B3')\n",
    "    }).rename(\"GNDVI\")\n",
    "    \n",
    "    image = image.addBands(GNDVI)\n",
    "\n",
    "    return(image)"
   ]
  },
  {
   "cell_type": "markdown",
   "id": "96231252-3ea8-4014-bfe6-af4ef560c653",
   "metadata": {},
   "source": [
    "### SAVI (Soil Adjusted Vegetation Index\n",
    "Formula: \n",
    "        SAVI = ((NIR – RED) / (NIR + RED + L)) * (1 + L)\n",
    "\n",
    "- NIR = valor dos pixels da banda NIR (B8)\n",
    "- Red = valor dos pixels da banda RED (B4)\n",
    "- L = quantidade de cobertura de vegetação verde\n"
   ]
  },
  {
   "cell_type": "code",
   "execution_count": null,
   "id": "ddaee7c0-7d8a-45a7-88f2-f07b97aede3d",
   "metadata": {},
   "outputs": [],
   "source": [
    "def obtemSAVI(image):\n",
    "    SAVI = image.expression ('(((NIR - RED) / (NIR + RED + L))* (1+L))',{\n",
    "        'L': 0.5, # Cobertura de vegetação [0-1]\n",
    "        'NIR': image.select ('B8').multiply(0.0001),\n",
    "        'RED': image.select ('B4').multiply(0.0001)\n",
    "    }).rename(\"SAVI\")\n",
    "    \n",
    "    image = image.addBands(SAVI)\n",
    "\n",
    "    return(image)"
   ]
  },
  {
   "cell_type": "markdown",
   "id": "23ddcee8-8bd4-430c-bdd2-6d263c0989d6",
   "metadata": {},
   "source": [
    "### MCARI (Modified Chlorophyll Absorption in Reflectance Index)\n",
    "Formula: \n",
    "        MCARI = ((VNIR - RED) - 0.2 * (VNIR - GREEN)) * (VNIR / RED)\n",
    "\n",
    "- NIR = valor dos pixels da banda NIR (B8)\n",
    "- Red = valor dos pixels da banda RED (B4)\n",
    "- Green = valor dos pixels da banda GREEN (B3)            "
   ]
  },
  {
   "cell_type": "code",
   "execution_count": null,
   "id": "125fc1a4-3e79-46f3-9923-2c9f26d82377",
   "metadata": {},
   "outputs": [],
   "source": [
    "def obtemMCARI(image):\n",
    "    MCARI = image.expression ('(((VNIR - RED) - 0.2 * (VNIR - GREEN)) * (VNIR / RED))',{\n",
    "        'VNIR': image.select ('B5'),\n",
    "        'GREEN': image.select ('B3'),\n",
    "        'RED': image.select ('B4')\n",
    "        \n",
    "    }).rename(\"MCARI\")\n",
    "    \n",
    "    image = image.addBands(MCARI)\n",
    "\n",
    "    return(image)"
   ]
  },
  {
   "cell_type": "markdown",
   "id": "e0227d94-773c-4a81-a924-625c6b7a518f",
   "metadata": {},
   "source": [
    "### SR (Simple Ratio Index)\n",
    "Formula: \n",
    "        MCARI = (NIR / RED)\n",
    "\n",
    "- NIR = valor dos pixels da banda NIR (B8)\n",
    "- Red = valor dos pixels da banda RED (B4)\n"
   ]
  },
  {
   "cell_type": "code",
   "execution_count": null,
   "id": "52de463e-aa43-4c3d-ab0f-298471360d2f",
   "metadata": {},
   "outputs": [],
   "source": [
    "def obtemSR(image):\n",
    "    SR = image.expression ('(VNIR - RED)',{\n",
    "        'VNIR': image.select ('B5'),\n",
    "        'RED': image.select ('B4')\n",
    "        \n",
    "    }).rename(\"SR\")\n",
    "    \n",
    "    image = image.addBands(SR)\n",
    "\n",
    "    return(image)"
   ]
  },
  {
   "cell_type": "markdown",
   "id": "628b168b-3868-495a-be33-b971ea1c626d",
   "metadata": {},
   "source": [
    "### Escolha da coleção de imagens"
   ]
  },
  {
   "cell_type": "code",
   "execution_count": null,
   "id": "2d4db17a-7279-4e54-87de-410b0c859d8c",
   "metadata": {},
   "outputs": [],
   "source": [
    "data_inicial = '2024-04-01'\n",
    "data_final = '2024-07-31'\n",
    "\n",
    "polygon_coords = [\n",
    "    [-43.41287287680422, -21.756108688468274],\n",
    "    [-43.396307553928246, -21.756108688468274],\n",
    "    [-43.396307553928246, -21.750887131860495],\n",
    "    [-43.41287287680422, -21.750887131860495],\n",
    "    [-43.41287287680422, -21.756108688468274]\n",
    "]\n",
    "\n",
    "aoi = ee.Geometry.Polygon(polygon_coords, None, False)\n",
    "\n",
    "sel_bandas = ('B2', 'B3', 'B4', 'B5', 'B8')\n",
    "\n",
    "db = ee.ImageCollection('COPERNICUS/S2_SR_HARMONIZED') \\\n",
    "                .filterBounds(aoi) \\\n",
    "                .filterDate(ee.Date(data_inicial), ee.Date(data_final)) \\\n",
    "                .select(sel_bandas) \\\n",
    "                .map(obtemNDVI) \\\n",
    "                .map(obtemGNDVI) \\\n",
    "                .map(obtemSAVI) \\\n",
    "                .sort('CLOUDY_PIXEL_PERCENTAGE') \\\n",
    "                .first()"
   ]
  },
  {
   "cell_type": "markdown",
   "id": "d90e9a70-6cd0-4b39-961d-ae450d1666d5",
   "metadata": {},
   "source": [
    "### Definição da paleta de cores"
   ]
  },
  {
   "cell_type": "code",
   "execution_count": null,
   "id": "b910da8a-ab36-4989-9a3a-174057d3fbae",
   "metadata": {},
   "outputs": [],
   "source": [
    "color = ['FFFFFF', 'CE7E45', 'DF923D', 'F1B555', 'FCD163', '99B718',\n",
    "               '74A901', '66A000', '529400', '3E8601', '207401', '056201',\n",
    "               '004C00', '023B01', '012E01', '011D01', '011301']\n",
    "pallete = {\"min\":0, \"max\":1, 'palette':color}"
   ]
  },
  {
   "cell_type": "markdown",
   "id": "ffc3bcec-2d98-44e7-9d07-cca7364bb79b",
   "metadata": {},
   "source": [
    "### Mapa interativo para visualização de diferentes camadas"
   ]
  },
  {
   "cell_type": "code",
   "execution_count": null,
   "id": "5f6277f4-8360-481d-9036-412e8fd0a8d3",
   "metadata": {},
   "outputs": [],
   "source": [
    "# initialize our map\n",
    "map1 = geemap.Map()\n",
    "map1.centerObject(aoi, 15)\n",
    "map1.addLayer(db.clip(aoi).select('NDVI'), pallete, \"NDVI\")\n",
    "map1.addLayer(db.clip(aoi).select('GNDVI'), pallete, \"GNDVI\")\n",
    "map1.addLayer(db.clip(aoi).select('SAVI'), pallete, \"SAVI\")\n",
    "\n",
    "map1.addLayerControl()\n",
    "map1"
   ]
  }
 ],
 "metadata": {
  "kernelspec": {
   "display_name": "Python 3 (ipykernel)",
   "language": "python",
   "name": "python3"
  },
  "language_info": {
   "codemirror_mode": {
    "name": "ipython",
    "version": 3
   },
   "file_extension": ".py",
   "mimetype": "text/x-python",
   "name": "python",
   "nbconvert_exporter": "python",
   "pygments_lexer": "ipython3",
   "version": "3.10.12"
  }
 },
 "nbformat": 4,
 "nbformat_minor": 5
}
